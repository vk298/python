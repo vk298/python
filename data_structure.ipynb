{
  "nbformat": 4,
  "nbformat_minor": 0,
  "metadata": {
    "colab": {
      "provenance": []
    },
    "kernelspec": {
      "name": "python3",
      "display_name": "Python 3"
    },
    "language_info": {
      "name": "python"
    }
  },
  "cells": [
    {
      "cell_type": "markdown",
      "source": [
        "list"
      ],
      "metadata": {
        "id": "rHJ-oLIRpwIb"
      }
    },
    {
      "cell_type": "code",
      "execution_count": null,
      "metadata": {
        "id": "GJBxq3VB6otv",
        "colab": {
          "base_uri": "https://localhost:8080/"
        },
        "outputId": "89b0184f-ad2b-4a51-e6dc-784ba09bfaba"
      },
      "outputs": [
        {
          "output_type": "stream",
          "name": "stdout",
          "text": [
            "<class 'list'>\n",
            "['h', 'e', 'l', 'l', 'o', ' ', 'p', 'y', 't', 'h', 'o', 'n']\n"
          ]
        }
      ],
      "source": [
        "x=list(\"hello python\")\n",
        "print(list)\n",
        "print(x)"
      ]
    },
    {
      "cell_type": "markdown",
      "source": [
        "set"
      ],
      "metadata": {
        "id": "aVTk6r7EsAoc"
      }
    },
    {
      "cell_type": "code",
      "source": [
        "numbers=(1,2,3,4,5,6,7,8)\n",
        "unique = set(numbers)\n",
        "print(unique)\n",
        "print(type(unique))"
      ],
      "metadata": {
        "colab": {
          "base_uri": "https://localhost:8080/"
        },
        "id": "OPAqCGz2rqK6",
        "outputId": "8d84658e-c040-4bbe-f07e-278df835827e"
      },
      "execution_count": null,
      "outputs": [
        {
          "output_type": "stream",
          "name": "stdout",
          "text": [
            "{1, 2, 3, 4, 5, 6, 7, 8}\n",
            "<class 'set'>\n"
          ]
        }
      ]
    },
    {
      "cell_type": "markdown",
      "source": [
        "tuples"
      ],
      "metadata": {
        "id": "rksZJGdOsoxY"
      }
    },
    {
      "cell_type": "code",
      "source": [
        "temp = tuple(\"troll greek\")\n",
        "print(temp)\n",
        "print(type(temp))"
      ],
      "metadata": {
        "colab": {
          "base_uri": "https://localhost:8080/"
        },
        "id": "xQGQehuStxnc",
        "outputId": "4ad9013f-6640-449f-d81d-f326d9f17f85"
      },
      "execution_count": null,
      "outputs": [
        {
          "output_type": "stream",
          "name": "stdout",
          "text": [
            "('t', 'r', 'o', 'l', 'l', ' ', 'g', 'r', 'e', 'e', 'k')\n",
            "<class 'tuple'>\n"
          ]
        }
      ]
    },
    {
      "cell_type": "markdown",
      "source": [
        "Dictionary"
      ],
      "metadata": {
        "id": "frq2WmgzvN4z"
      }
    },
    {
      "cell_type": "code",
      "source": [
        "D={1:\"one\",2:\"two\",3:\"three\"}\n",
        "print(D)\n",
        "print(type(D))"
      ],
      "metadata": {
        "colab": {
          "base_uri": "https://localhost:8080/"
        },
        "id": "agf5Cxa_vEdl",
        "outputId": "648b12f1-4e44-4f95-d409-a9f4cc4548aa"
      },
      "execution_count": null,
      "outputs": [
        {
          "output_type": "stream",
          "name": "stdout",
          "text": [
            "{1: 'one', 2: 'two', 3: 'three'}\n",
            "<class 'dict'>\n"
          ]
        }
      ]
    }
  ]
}