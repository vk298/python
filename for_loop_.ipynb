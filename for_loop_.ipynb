{
  "nbformat": 4,
  "nbformat_minor": 0,
  "metadata": {
    "colab": {
      "provenance": []
    },
    "kernelspec": {
      "name": "python3",
      "display_name": "Python 3"
    },
    "language_info": {
      "name": "python"
    }
  },
  "cells": [
    {
      "cell_type": "markdown",
      "source": [
        "for loop implementation"
      ],
      "metadata": {
        "id": "ui5cnf8wxM3v"
      }
    },
    {
      "cell_type": "code",
      "source": [
        "for i in range(5):\n",
        "  print(\"troll geek\")"
      ],
      "metadata": {
        "colab": {
          "base_uri": "https://localhost:8080/"
        },
        "id": "fP2iEJ6WxUWP",
        "outputId": "1964a5f6-d5bc-4f4b-e4f4-d29688bb14c7"
      },
      "execution_count": null,
      "outputs": [
        {
          "output_type": "stream",
          "name": "stdout",
          "text": [
            "troll geek\n",
            "troll geek\n",
            "troll geek\n",
            "troll geek\n",
            "troll geek\n"
          ]
        }
      ]
    },
    {
      "cell_type": "code",
      "source": [
        "for i in range(0,10,2):\n",
        "  print(i)"
      ],
      "metadata": {
        "colab": {
          "base_uri": "https://localhost:8080/"
        },
        "id": "b6IE1I6fx7z2",
        "outputId": "3a0a1de0-1776-42d1-c475-9ce0f40bab74"
      },
      "execution_count": null,
      "outputs": [
        {
          "output_type": "stream",
          "name": "stdout",
          "text": [
            "0\n",
            "2\n",
            "4\n",
            "6\n",
            "8\n"
          ]
        }
      ]
    },
    {
      "cell_type": "markdown",
      "source": [
        "Factorial of number provided by tha user:"
      ],
      "metadata": {
        "id": "fZVjjEYXqqUc"
      }
    },
    {
      "cell_type": "code",
      "execution_count": null,
      "metadata": {
        "colab": {
          "base_uri": "https://localhost:8080/"
        },
        "id": "zueWcRZ5qR5Y",
        "outputId": "a69a2084-7a11-4759-cc82-882a667fd15d"
      },
      "outputs": [
        {
          "output_type": "stream",
          "name": "stdout",
          "text": [
            "Enter a number: 23\n",
            "The factorial of 23 is 25852016738884976640000\n"
          ]
        }
      ],
      "source": [
        "num=int(input(\"Enter a number: \"))\n",
        "factorial=1\n",
        "for i in range(1,num+1):\n",
        "  factorial=factorial*i\n",
        "print(\"The factorial of\",num,\"is\",factorial)"
      ]
    },
    {
      "cell_type": "markdown",
      "source": [
        "programe to multipication tabel"
      ],
      "metadata": {
        "id": "3H2y--iQrHWW"
      }
    },
    {
      "cell_type": "code",
      "source": [
        "n=int(input(\"Enter a number: \"))\n",
        "for i in range(1,11):\n",
        "  print(n,\"x\",i,\"=\",n*i)"
      ],
      "metadata": {
        "colab": {
          "base_uri": "https://localhost:8080/"
        },
        "id": "qBmVFbTZrWNm",
        "outputId": "a0008e89-d9ef-4e99-ecc6-f9826fbc432a"
      },
      "execution_count": null,
      "outputs": [
        {
          "output_type": "stream",
          "name": "stdout",
          "text": [
            "Enter a number: 2\n",
            "2 x 1 = 2\n",
            "2 x 2 = 4\n",
            "2 x 3 = 6\n",
            "2 x 4 = 8\n",
            "2 x 5 = 10\n",
            "2 x 6 = 12\n",
            "2 x 7 = 14\n",
            "2 x 8 = 16\n",
            "2 x 9 = 18\n",
            "2 x 10 = 20\n"
          ]
        }
      ]
    },
    {
      "cell_type": "markdown",
      "source": [
        "programe to revers multipication tabel"
      ],
      "metadata": {
        "id": "wY5pueyDsdF4"
      }
    },
    {
      "cell_type": "code",
      "source": [
        "n=int(input(\"Enter a number: \"))\n",
        "for i in range(10,0,-1):\n",
        "  print(n,\"x\",i,\"=\",n*i)"
      ],
      "metadata": {
        "colab": {
          "base_uri": "https://localhost:8080/"
        },
        "id": "P-F5dCpAskGP",
        "outputId": "6ab6e5b7-6050-47e3-99a7-175a085254dd"
      },
      "execution_count": null,
      "outputs": [
        {
          "output_type": "stream",
          "name": "stdout",
          "text": [
            "Enter a number: 2\n",
            "2 x 10 = 20\n",
            "2 x 9 = 18\n",
            "2 x 8 = 16\n",
            "2 x 7 = 14\n",
            "2 x 6 = 12\n",
            "2 x 5 = 10\n",
            "2 x 4 = 8\n",
            "2 x 3 = 6\n",
            "2 x 2 = 4\n",
            "2 x 1 = 2\n"
          ]
        }
      ]
    },
    {
      "cell_type": "markdown",
      "source": [
        "pattern printing"
      ],
      "metadata": {
        "id": "QsjIsds-rhMj"
      }
    },
    {
      "cell_type": "code",
      "source": [
        "rows=int(input(\"Enter the number of rows: \"))\n",
        "for i in range(1,rows+1):\n",
        "  for j in range(i,0,-1):\n",
        "    print(j,end=\" \")\n",
        "  print()\n",
        "\n"
      ],
      "metadata": {
        "colab": {
          "base_uri": "https://localhost:8080/"
        },
        "id": "OaCrNxL1rsFm",
        "outputId": "bb4c04c8-b083-44f1-eedf-c991e31c40f3"
      },
      "execution_count": null,
      "outputs": [
        {
          "output_type": "stream",
          "name": "stdout",
          "text": [
            "Enter the number of rows: 5\n",
            "1 \n",
            "2 1 \n",
            "3 2 1 \n",
            "4 3 2 1 \n",
            "5 4 3 2 1 \n"
          ]
        }
      ]
    },
    {
      "cell_type": "markdown",
      "source": [
        "pattern printing in revers order"
      ],
      "metadata": {
        "id": "IKlPOHqQr55h"
      }
    },
    {
      "cell_type": "code",
      "source": [
        "rows=int(input(\"Enter the value\"))\n",
        "for i in range(rows,0,-1):\n",
        "  for j in range(1,i+1):\n",
        "    print(j,\" \",end=\" \")\n",
        "  print(\"\\n\")"
      ],
      "metadata": {
        "colab": {
          "base_uri": "https://localhost:8080/"
        },
        "id": "pmxKyAhFsI8a",
        "outputId": "f47acdc1-68bf-4c65-c130-d3d876586597"
      },
      "execution_count": null,
      "outputs": [
        {
          "output_type": "stream",
          "name": "stdout",
          "text": [
            "Enter the value5\n",
            "1   2   3   4   5   \n",
            "\n",
            "1   2   3   4   \n",
            "\n",
            "1   2   3   \n",
            "\n",
            "1   2   \n",
            "\n",
            "1   \n",
            "\n"
          ]
        }
      ]
    }
  ]
}