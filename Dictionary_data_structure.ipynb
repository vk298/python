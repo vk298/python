{
  "nbformat": 4,
  "nbformat_minor": 0,
  "metadata": {
    "colab": {
      "provenance": []
    },
    "kernelspec": {
      "name": "python3",
      "display_name": "Python 3"
    },
    "language_info": {
      "name": "python"
    }
  },
  "cells": [
    {
      "cell_type": "markdown",
      "source": [
        "Traversal"
      ],
      "metadata": {
        "id": "Ak89pJvKchbu"
      }
    },
    {
      "cell_type": "code",
      "execution_count": null,
      "metadata": {
        "colab": {
          "base_uri": "https://localhost:8080/"
        },
        "id": "37usko9lbAtw",
        "outputId": "1662fef7-879a-4d2a-8dc7-7f80b8b45972"
      },
      "outputs": [
        {
          "output_type": "stream",
          "name": "stdout",
          "text": [
            "0 python\n",
            "1 java\n"
          ]
        }
      ],
      "source": [
        "dict_ = {0:'python',1:'java'}\n",
        "for i in dict_:\n",
        "  print(i, dict_[i])"
      ]
    },
    {
      "cell_type": "markdown",
      "source": [
        "Adding Element"
      ],
      "metadata": {
        "id": "x6SYp9z3dhrd"
      }
    },
    {
      "cell_type": "code",
      "source": [
        "dict={0: 'python', 1: 'java'}\n",
        "dict[2] = 'c++'\n",
        "print(dict)"
      ],
      "metadata": {
        "colab": {
          "base_uri": "https://localhost:8080/"
        },
        "id": "eM_QPkrgdahh",
        "outputId": "da44a1fb-1e87-4965-f93a-44af635bfbd6"
      },
      "execution_count": null,
      "outputs": [
        {
          "output_type": "stream",
          "name": "stdout",
          "text": [
            "{0: 'python', 1: 'java', 2: 'c++'}\n"
          ]
        }
      ]
    },
    {
      "cell_type": "markdown",
      "source": [
        "Removing Elemend"
      ],
      "metadata": {
        "id": "UIhJAcDDd_TH"
      }
    },
    {
      "cell_type": "code",
      "source": [
        "dict={0: 'python', 1: 'java', 2: 'c++'}\n",
        "del dict[2]\n",
        "print(dict)"
      ],
      "metadata": {
        "colab": {
          "base_uri": "https://localhost:8080/"
        },
        "id": "z-Z-FyYSd8EG",
        "outputId": "aadcaf13-e6f6-4d4b-b876-4c37e741d6a7"
      },
      "execution_count": null,
      "outputs": [
        {
          "output_type": "stream",
          "name": "stdout",
          "text": [
            "{0: 'python', 1: 'java'}\n"
          ]
        }
      ]
    },
    {
      "cell_type": "markdown",
      "source": [
        "pop()"
      ],
      "metadata": {
        "id": "RJ6ksJWpeXRi"
      }
    },
    {
      "cell_type": "code",
      "source": [
        "dict={0: 'python', 1: 'java', 2: 'c++'}\n",
        "dict.pop(1)\n",
        "print(dict)"
      ],
      "metadata": {
        "colab": {
          "base_uri": "https://localhost:8080/"
        },
        "id": "Cr_5ct-peUrG",
        "outputId": "8cbf4d52-58db-456e-e060-6ca539edda42"
      },
      "execution_count": null,
      "outputs": [
        {
          "output_type": "stream",
          "name": "stdout",
          "text": [
            "{0: 'python', 2: 'c++'}\n"
          ]
        }
      ]
    },
    {
      "cell_type": "markdown",
      "source": [
        "update()"
      ],
      "metadata": {
        "id": "x4DCkjCEeqq0"
      }
    },
    {
      "cell_type": "code",
      "source": [
        "dict={0: 'python', 1: 'java', 2: 'c++'}\n",
        "dict.update({3:'c'})\n",
        "print(dict)"
      ],
      "metadata": {
        "colab": {
          "base_uri": "https://localhost:8080/"
        },
        "id": "v-l9EM0NehIO",
        "outputId": "f5957566-1437-4e62-8515-93e21e545ea6"
      },
      "execution_count": null,
      "outputs": [
        {
          "output_type": "stream",
          "name": "stdout",
          "text": [
            "{0: 'python', 1: 'java', 2: 'c++', 3: 'c'}\n"
          ]
        }
      ]
    },
    {
      "cell_type": "markdown",
      "source": [
        "keys()"
      ],
      "metadata": {
        "id": "NZl7-SPhe_7F"
      }
    },
    {
      "cell_type": "code",
      "source": [
        "dict={0: 'python', 1: 'java', 2: 'c++'}\n",
        "print(dict.keys())"
      ],
      "metadata": {
        "colab": {
          "base_uri": "https://localhost:8080/"
        },
        "id": "_FLcUARkezrF",
        "outputId": "041e7b0c-07e1-445f-82e5-bcffb042e1eb"
      },
      "execution_count": null,
      "outputs": [
        {
          "output_type": "stream",
          "name": "stdout",
          "text": [
            "dict_keys([0, 1, 2])\n"
          ]
        }
      ]
    },
    {
      "cell_type": "markdown",
      "source": [
        "values()"
      ],
      "metadata": {
        "id": "knFO00hafHpo"
      }
    },
    {
      "cell_type": "code",
      "source": [
        "dict={0: 'python', 1: 'java', 2: 'c++'}\n",
        "print(dict.values())\n"
      ],
      "metadata": {
        "colab": {
          "base_uri": "https://localhost:8080/"
        },
        "id": "_aoDe_MOfMQz",
        "outputId": "3db2099b-9e4d-42c8-8f6c-646daeb06a58"
      },
      "execution_count": null,
      "outputs": [
        {
          "output_type": "stream",
          "name": "stdout",
          "text": [
            "dict_values(['python', 'java', 'c++'])\n"
          ]
        }
      ]
    },
    {
      "cell_type": "markdown",
      "source": [
        "items()"
      ],
      "metadata": {
        "id": "BqBMQyeLfRQB"
      }
    },
    {
      "cell_type": "code",
      "source": [
        "dict={0: 'python', 1: 'java', 2: 'c++'}\n",
        "print(dict.items())"
      ],
      "metadata": {
        "colab": {
          "base_uri": "https://localhost:8080/"
        },
        "id": "mwWi2aH-fWaQ",
        "outputId": "f57c0d9a-b08f-4a29-994a-47b5c8910a3f"
      },
      "execution_count": null,
      "outputs": [
        {
          "output_type": "stream",
          "name": "stdout",
          "text": [
            "dict_items([(0, 'python'), (1, 'java'), (2, 'c++')])\n"
          ]
        }
      ]
    }
  ]
}