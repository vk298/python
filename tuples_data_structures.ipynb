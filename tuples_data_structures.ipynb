{
  "nbformat": 4,
  "nbformat_minor": 0,
  "metadata": {
    "colab": {
      "provenance": []
    },
    "kernelspec": {
      "name": "python3",
      "display_name": "Python 3"
    },
    "language_info": {
      "name": "python"
    }
  },
  "cells": [
    {
      "cell_type": "markdown",
      "source": [
        "Tuple methods"
      ],
      "metadata": {
        "id": "F_R7dsB0mX2q"
      }
    },
    {
      "cell_type": "code",
      "execution_count": null,
      "metadata": {
        "colab": {
          "base_uri": "https://localhost:8080/"
        },
        "id": "qUZ_J0yclLC5",
        "outputId": "540cf2b8-111a-457f-9351-4485adf4a57b"
      },
      "outputs": [
        {
          "output_type": "stream",
          "name": "stdout",
          "text": [
            "4\n",
            "901\n",
            "123\n",
            "2466\n",
            "[123, 564, 878, 901]\n"
          ]
        }
      ],
      "source": [
        "tup=(123,564,878,901)\n",
        "print(len(tup))\n",
        "print(max(tup))\n",
        "print(min(tup))\n",
        "print(sum(tup))\n",
        "print(sorted(tup))\n"
      ]
    }
  ]
}