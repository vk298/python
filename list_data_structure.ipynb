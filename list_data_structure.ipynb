{
  "nbformat": 4,
  "nbformat_minor": 0,
  "metadata": {
    "colab": {
      "provenance": []
    },
    "kernelspec": {
      "name": "python3",
      "display_name": "Python 3"
    },
    "language_info": {
      "name": "python"
    }
  },
  "cells": [
    {
      "cell_type": "markdown",
      "source": [
        "list()"
      ],
      "metadata": {
        "id": "Af9g2thh3Oyt"
      }
    },
    {
      "cell_type": "code",
      "source": [
        "lst=list('hello')\n",
        "print(lst)\n",
        "\n"
      ],
      "metadata": {
        "colab": {
          "base_uri": "https://localhost:8080/"
        },
        "id": "NCBQQ81v3RZ7",
        "outputId": "27dfaff8-d87c-4e68-aa45-be5467038ac1"
      },
      "execution_count": null,
      "outputs": [
        {
          "output_type": "stream",
          "name": "stdout",
          "text": [
            "['h', 'e', 'l', 'l', 'o']\n"
          ]
        }
      ]
    },
    {
      "cell_type": "markdown",
      "source": [
        "len()"
      ],
      "metadata": {
        "id": "3JBBbulLzPD-"
      }
    },
    {
      "cell_type": "code",
      "execution_count": null,
      "metadata": {
        "colab": {
          "base_uri": "https://localhost:8080/"
        },
        "id": "JS0ngz7XwXJb",
        "outputId": "d2ed9a15-3a50-4dce-f0ca-d5f68df35eae"
      },
      "outputs": [
        {
          "output_type": "stream",
          "name": "stdout",
          "text": [
            "9\n"
          ]
        }
      ],
      "source": [
        "lst=[1,2,4,56,'hello',67,87,3,'haii']\n",
        "print(len(lst))"
      ]
    },
    {
      "cell_type": "markdown",
      "source": [
        "max()"
      ],
      "metadata": {
        "id": "B9c8ccQGzVPP"
      }
    },
    {
      "cell_type": "code",
      "source": [
        "lst=[1,2,4,56,87,3]\n",
        "print(max(lst))"
      ],
      "metadata": {
        "colab": {
          "base_uri": "https://localhost:8080/"
        },
        "id": "B7XmzjDnyv5C",
        "outputId": "1a8680cb-14a1-4e99-ba98-5a365c71bae4"
      },
      "execution_count": null,
      "outputs": [
        {
          "output_type": "stream",
          "name": "stdout",
          "text": [
            "87\n"
          ]
        }
      ]
    },
    {
      "cell_type": "markdown",
      "source": [
        "min()"
      ],
      "metadata": {
        "id": "yHC56zwdzXpu"
      }
    },
    {
      "cell_type": "code",
      "source": [
        "lst=[1,2,4,56,87,3]\n",
        "print(min(lst))"
      ],
      "metadata": {
        "colab": {
          "base_uri": "https://localhost:8080/"
        },
        "id": "vzyhbohyzL5m",
        "outputId": "6c12da4b-3c82-4b0a-8807-8a8b5539eb3c"
      },
      "execution_count": null,
      "outputs": [
        {
          "output_type": "stream",
          "name": "stdout",
          "text": [
            "1\n"
          ]
        }
      ]
    },
    {
      "cell_type": "markdown",
      "source": [
        "append()"
      ],
      "metadata": {
        "id": "D84bEVCjzsp_"
      }
    },
    {
      "cell_type": "code",
      "source": [
        "lst=[10,20,30,40,50,60,70,80]\n",
        "lst.append(90)\n",
        "print(lst)"
      ],
      "metadata": {
        "colab": {
          "base_uri": "https://localhost:8080/"
        },
        "id": "elXA_wcdzohi",
        "outputId": "59007662-a9dd-4b02-bdae-675a641ba612"
      },
      "execution_count": null,
      "outputs": [
        {
          "output_type": "stream",
          "name": "stdout",
          "text": [
            "[10, 20, 30, 40, 50, 60, 70, 80, 90]\n"
          ]
        }
      ]
    },
    {
      "cell_type": "markdown",
      "source": [
        "insert()"
      ],
      "metadata": {
        "id": "owvTywGL0DMw"
      }
    },
    {
      "cell_type": "code",
      "source": [
        "lst=[1,2,3,5,6,7,8,9,10]\n",
        "lst.insert(5,4)\n",
        "print(lst)"
      ],
      "metadata": {
        "colab": {
          "base_uri": "https://localhost:8080/"
        },
        "id": "RSpERwv70BXp",
        "outputId": "3afd34ea-4f2e-48e2-824c-75aec0a181e7"
      },
      "execution_count": null,
      "outputs": [
        {
          "output_type": "stream",
          "name": "stdout",
          "text": [
            "[1, 2, 3, 5, 6, 4, 7, 8, 9, 10]\n"
          ]
        }
      ]
    },
    {
      "cell_type": "markdown",
      "source": [
        "extend()"
      ],
      "metadata": {
        "id": "aJIBERFd0cz1"
      }
    },
    {
      "cell_type": "code",
      "source": [
        "lst=['a','b','c','d']\n",
        "lst.extend([1,2,3,4])\n",
        "print(lst)"
      ],
      "metadata": {
        "colab": {
          "base_uri": "https://localhost:8080/"
        },
        "id": "ofpEW8wv0RCz",
        "outputId": "96c84e0a-00fe-4f0e-aeee-92eca80190c1"
      },
      "execution_count": null,
      "outputs": [
        {
          "output_type": "stream",
          "name": "stdout",
          "text": [
            "['a', 'b', 'c', 'd', 1, 2, 3, 4]\n"
          ]
        }
      ]
    },
    {
      "cell_type": "markdown",
      "source": [
        "remove()"
      ],
      "metadata": {
        "id": "xKcwfmqR1eJ1"
      }
    },
    {
      "cell_type": "code",
      "source": [
        "lst=[10,20,30,'entry',40,50,60,70,80]\n",
        "lst.remove('entry')\n",
        "print(lst)"
      ],
      "metadata": {
        "colab": {
          "base_uri": "https://localhost:8080/"
        },
        "id": "Z3Z7Fl-M1SZk",
        "outputId": "e99cbb4a-ca04-4bc3-8e38-62725f4d7eaa"
      },
      "execution_count": null,
      "outputs": [
        {
          "output_type": "stream",
          "name": "stdout",
          "text": [
            "[10, 20, 30, 40, 50, 60, 70, 80]\n"
          ]
        }
      ]
    },
    {
      "cell_type": "markdown",
      "source": [
        "pop()"
      ],
      "metadata": {
        "id": "UzFWfOR015He"
      }
    },
    {
      "cell_type": "code",
      "source": [
        "lst=['list','is','a','data',12,'structure','in','python']\n",
        "lst.pop(4)\n",
        "print(lst)"
      ],
      "metadata": {
        "colab": {
          "base_uri": "https://localhost:8080/"
        },
        "id": "zK4BGOse1uxW",
        "outputId": "59dd5d9f-bee5-4c11-f174-edc120568422"
      },
      "execution_count": null,
      "outputs": [
        {
          "output_type": "stream",
          "name": "stdout",
          "text": [
            "['list', 'is', 'a', 'data', 'structure', 'in', 'python']\n"
          ]
        }
      ]
    },
    {
      "cell_type": "markdown",
      "source": [
        "sort()"
      ],
      "metadata": {
        "id": "s5ktSaxF2i8I"
      }
    },
    {
      "cell_type": "code",
      "source": [
        "lst=[1,3,4,6,7,2,5,8,9,10]\n",
        "lst.sort()\n",
        "print(lst)"
      ],
      "metadata": {
        "colab": {
          "base_uri": "https://localhost:8080/"
        },
        "id": "rZJwp8hg2Q43",
        "outputId": "dc33e388-3e3d-418e-95ed-ad830e4a85e5"
      },
      "execution_count": null,
      "outputs": [
        {
          "output_type": "stream",
          "name": "stdout",
          "text": [
            "[1, 2, 3, 4, 5, 6, 7, 8, 9, 10]\n"
          ]
        }
      ]
    },
    {
      "cell_type": "code",
      "source": [
        "lst=[1,3,4,6,7,2,5,8,9,10]\n",
        "lst.sort(reverse=True)\n",
        "print(lst)"
      ],
      "metadata": {
        "colab": {
          "base_uri": "https://localhost:8080/"
        },
        "id": "1evK_ei02zAS",
        "outputId": "9eb88b05-7a2b-4f29-cc0b-42754d66e823"
      },
      "execution_count": null,
      "outputs": [
        {
          "output_type": "stream",
          "name": "stdout",
          "text": [
            "[10, 9, 8, 7, 6, 5, 4, 3, 2, 1]\n"
          ]
        }
      ]
    },
    {
      "cell_type": "markdown",
      "source": [
        "list()"
      ],
      "metadata": {
        "id": "oSyGzso63Gf5"
      }
    },
    {
      "cell_type": "code",
      "source": [],
      "metadata": {
        "id": "sNlMz1-J29NK"
      },
      "execution_count": null,
      "outputs": []
    }
  ]
}