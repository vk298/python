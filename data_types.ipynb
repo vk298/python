{
  "nbformat": 4,
  "nbformat_minor": 0,
  "metadata": {
    "colab": {
      "provenance": []
    },
    "kernelspec": {
      "name": "python3",
      "display_name": "Python 3"
    },
    "language_info": {
      "name": "python"
    }
  },
  "cells": [
    {
      "cell_type": "markdown",
      "source": [
        "integer"
      ],
      "metadata": {
        "id": "QVDhgJzj127A"
      }
    },
    {
      "cell_type": "code",
      "execution_count": 1,
      "metadata": {
        "colab": {
          "base_uri": "https://localhost:8080/"
        },
        "id": "r03U0HY5x0jK",
        "outputId": "4810bfb9-b5e7-44d0-a326-ecca304f13dd"
      },
      "outputs": [
        {
          "output_type": "stream",
          "name": "stdout",
          "text": [
            "<class 'int'>\n"
          ]
        }
      ],
      "source": [
        "x = 54\n",
        "print(type(x))"
      ]
    },
    {
      "cell_type": "code",
      "source": [
        "a=10\n",
        "b=20\n",
        "c=a+b\n",
        "print(c)"
      ],
      "metadata": {
        "colab": {
          "base_uri": "https://localhost:8080/"
        },
        "id": "p-lUxFLr07hE",
        "outputId": "ea1df83f-317d-4a34-a48f-b0be0ac7762a"
      },
      "execution_count": 2,
      "outputs": [
        {
          "output_type": "stream",
          "name": "stdout",
          "text": [
            "30\n"
          ]
        }
      ]
    },
    {
      "cell_type": "markdown",
      "source": [
        "string"
      ],
      "metadata": {
        "id": "ss6VdjuV2De3"
      }
    },
    {
      "cell_type": "code",
      "source": [
        "a = \"hello world\"\n",
        "print(type(a))"
      ],
      "metadata": {
        "colab": {
          "base_uri": "https://localhost:8080/"
        },
        "id": "SnvhNNMl1GYB",
        "outputId": "69bfe3d9-f307-44ad-e9b1-4802ad9a08c4"
      },
      "execution_count": null,
      "outputs": [
        {
          "output_type": "stream",
          "name": "stdout",
          "text": [
            "<class 'str'>\n"
          ]
        }
      ]
    },
    {
      "cell_type": "code",
      "source": [
        "str1=\"hello\"\n",
        "str2=\"world\"\n",
        "print(str1+str2)"
      ],
      "metadata": {
        "colab": {
          "base_uri": "https://localhost:8080/"
        },
        "id": "TEbr3IDM1TS5",
        "outputId": "2e9dd157-c327-4ed7-e4fe-abfa1dfc9efc"
      },
      "execution_count": null,
      "outputs": [
        {
          "output_type": "stream",
          "name": "stdout",
          "text": [
            "helloworld\n"
          ]
        }
      ]
    },
    {
      "cell_type": "markdown",
      "source": [
        "float"
      ],
      "metadata": {
        "id": "FzNgKzTO2G7W"
      }
    },
    {
      "cell_type": "code",
      "source": [
        "x=20.54\n",
        "print(type(x))"
      ],
      "metadata": {
        "colab": {
          "base_uri": "https://localhost:8080/"
        },
        "id": "JkgBq3lx11Qw",
        "outputId": "2ddbd3e4-238a-4715-b7a9-7f8e6bfce1ec"
      },
      "execution_count": null,
      "outputs": [
        {
          "output_type": "stream",
          "name": "stdout",
          "text": [
            "<class 'float'>\n"
          ]
        }
      ]
    },
    {
      "cell_type": "code",
      "source": [
        "a=20\n",
        "b=12.5\n",
        "c=a+b\n",
        "print(c)"
      ],
      "metadata": {
        "colab": {
          "base_uri": "https://localhost:8080/"
        },
        "id": "WA7vUXbe2QVm",
        "outputId": "489f7c43-8b81-4a39-9a94-fe82a6e62d02"
      },
      "execution_count": null,
      "outputs": [
        {
          "output_type": "stream",
          "name": "stdout",
          "text": [
            "32.5\n"
          ]
        }
      ]
    },
    {
      "cell_type": "markdown",
      "source": [
        "boolean"
      ],
      "metadata": {
        "id": "VC38Qbz72W8G"
      }
    },
    {
      "cell_type": "code",
      "source": [
        "a = True\n",
        "print(type(a))"
      ],
      "metadata": {
        "colab": {
          "base_uri": "https://localhost:8080/"
        },
        "id": "soQTG24o2gbR",
        "outputId": "63274c2e-076b-46f5-9c13-dcff4043f2df"
      },
      "execution_count": null,
      "outputs": [
        {
          "output_type": "stream",
          "name": "stdout",
          "text": [
            "<class 'bool'>\n"
          ]
        }
      ]
    },
    {
      "cell_type": "code",
      "source": [
        "b=False\n",
        "print(type(b))"
      ],
      "metadata": {
        "colab": {
          "base_uri": "https://localhost:8080/"
        },
        "id": "zlp-3Iyj3y9S",
        "outputId": "8866e06f-ddbe-4005-dc9c-838f5a884b49"
      },
      "execution_count": null,
      "outputs": [
        {
          "output_type": "stream",
          "name": "stdout",
          "text": [
            "<class 'bool'>\n"
          ]
        }
      ]
    },
    {
      "cell_type": "markdown",
      "source": [
        "complex"
      ],
      "metadata": {
        "id": "pJPxJWc25htI"
      }
    },
    {
      "cell_type": "code",
      "source": [
        "num=3+4j\n",
        "print(type(num))"
      ],
      "metadata": {
        "colab": {
          "base_uri": "https://localhost:8080/"
        },
        "id": "67-FfCI031wh",
        "outputId": "94181ee5-0833-4e4f-ad8f-cb8a57ac9de3"
      },
      "execution_count": null,
      "outputs": [
        {
          "output_type": "stream",
          "name": "stdout",
          "text": [
            "<class 'complex'>\n"
          ]
        }
      ]
    }
  ]
}