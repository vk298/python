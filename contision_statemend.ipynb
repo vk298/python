{
  "nbformat": 4,
  "nbformat_minor": 0,
  "metadata": {
    "colab": {
      "provenance": []
    },
    "kernelspec": {
      "name": "python3",
      "display_name": "Python 3"
    },
    "language_info": {
      "name": "python"
    }
  },
  "cells": [
    {
      "cell_type": "markdown",
      "source": [
        "even num or odd num"
      ],
      "metadata": {
        "id": "9kR803M5qLTb"
      }
    },
    {
      "cell_type": "code",
      "execution_count": null,
      "metadata": {
        "colab": {
          "base_uri": "https://localhost:8080/"
        },
        "id": "pTiwtH7Zp1JI",
        "outputId": "cdb96c75-229a-4c80-e707-31688204714c"
      },
      "outputs": [
        {
          "output_type": "stream",
          "name": "stdout",
          "text": [
            "enter tha number22\n",
            "even\n"
          ]
        }
      ],
      "source": [
        "n=int(input(\"enter tha number\"))\n",
        "if n%2==0:\n",
        "    print(\"even\")\n",
        "else:\n",
        "    print(\"odd\")\n"
      ]
    },
    {
      "cell_type": "markdown",
      "source": [
        "Largest number amoung the three input numpers"
      ],
      "metadata": {
        "id": "Z0Nj4msgqRyr"
      }
    },
    {
      "cell_type": "code",
      "source": [
        "num1=int(input(\"enter the first number\"))\n",
        "num2=int(input(\"enter the second number\"))\n",
        "num3 = int(input(\"enter the third number\"))\n",
        "if (num1 >= num2) and (num1 >= num3):\n",
        "  largest = num1\n",
        "elif (num2 >= num1) and (num2 >= num3):\n",
        "  largest = num2\n",
        "else:\n",
        "  largest = num3\n",
        "print(\"the largest number is\", largest)"
      ],
      "metadata": {
        "colab": {
          "base_uri": "https://localhost:8080/"
        },
        "id": "cqQ9RX0TqoDp",
        "outputId": "ee37ecf6-3080-4b23-e3e9-fcf15d649ec2"
      },
      "execution_count": null,
      "outputs": [
        {
          "output_type": "stream",
          "name": "stdout",
          "text": [
            "enter the first number23\n",
            "enter the second number34\n",
            "enter the third number54\n",
            "the largest number is 54\n"
          ]
        }
      ]
    },
    {
      "cell_type": "markdown",
      "source": [
        "Number is prime num or not prime num"
      ],
      "metadata": {
        "id": "CpVjFQYgsCE6"
      }
    },
    {
      "cell_type": "code",
      "source": [
        "n=int(input(\"enter the number\"))\n",
        "count=0\n",
        "for i in range(1,n+1):\n",
        "    if n%i==0:\n",
        "        count=count+1\n",
        "if count==2:\n",
        "    print(\"prime\")\n",
        "else:\n",
        "    print(\"not prime\")"
      ],
      "metadata": {
        "colab": {
          "base_uri": "https://localhost:8080/"
        },
        "id": "x7O0hcBqsJnV",
        "outputId": "27823d14-75c3-4c58-eb72-39d3209bbf05"
      },
      "execution_count": null,
      "outputs": [
        {
          "output_type": "stream",
          "name": "stdout",
          "text": [
            "enter the number24\n",
            "not prime\n"
          ]
        }
      ]
    },
    {
      "cell_type": "markdown",
      "source": [
        "string palindrome or not palindrome"
      ],
      "metadata": {
        "id": "c7O5e5a8srCr"
      }
    },
    {
      "cell_type": "code",
      "source": [
        "strg=input(\"enter the string\")\n",
        "if strg==strg[::-1]:\n",
        "    print(\"palindrome\")\n",
        "else:\n",
        "    print(\"not palindrome\")"
      ],
      "metadata": {
        "colab": {
          "base_uri": "https://localhost:8080/"
        },
        "id": "INnqVdZwsfMV",
        "outputId": "85876b35-fb47-45b1-d14c-7c3d804f81f4"
      },
      "execution_count": null,
      "outputs": [
        {
          "output_type": "stream",
          "name": "stdout",
          "text": [
            "enter the string\"mam\"\n",
            "palindrome\n"
          ]
        }
      ]
    },
    {
      "cell_type": "code",
      "source": [
        "def leapyear(year):\n",
        "    if(year%4==0 and year%100!=0) or year%400==0:\n",
        "        print(\"leap year\")\n",
        "    else:\n",
        "        print(\"not leap year\")\n",
        "leapyear(2024)"
      ],
      "metadata": {
        "colab": {
          "base_uri": "https://localhost:8080/"
        },
        "id": "C4invQIrtFo2",
        "outputId": "df90f91f-9d4b-4cd1-9b99-19df8658de24"
      },
      "execution_count": null,
      "outputs": [
        {
          "output_type": "stream",
          "name": "stdout",
          "text": [
            "leap year\n"
          ]
        }
      ]
    },
    {
      "cell_type": "markdown",
      "source": [
        "Given numbers is a possitive num ,negative num or zero"
      ],
      "metadata": {
        "id": "10TXn9MKtgT4"
      }
    },
    {
      "cell_type": "code",
      "source": [
        "num=int(input(\"enter the number\"))\n",
        "if num>0:\n",
        "    print(\"positive\")\n",
        "elif num<0:\n",
        "    print(\"negative\")\n",
        "else:\n",
        "    print(\"zero\")"
      ],
      "metadata": {
        "colab": {
          "base_uri": "https://localhost:8080/"
        },
        "id": "rhdrGPc1trq8",
        "outputId": "906815c5-7813-4f1b-b30b-0295ddab6c05"
      },
      "execution_count": null,
      "outputs": [
        {
          "output_type": "stream",
          "name": "stdout",
          "text": [
            "enter the number0\n",
            "zero\n"
          ]
        }
      ]
    },
    {
      "cell_type": "markdown",
      "source": [
        "Given letter is alphabet or not alphabet"
      ],
      "metadata": {
        "id": "xLlNcyrYuFOo"
      }
    },
    {
      "cell_type": "code",
      "source": [
        "ch=input(\"enter the character\")\n",
        "if (ch>='a' and ch<='z') or (ch>='A' and ch<='Z'):\n",
        "    print(\"alphabet\")\n",
        "else:\n",
        "    print(\"not alphabet\")"
      ],
      "metadata": {
        "id": "M1imfAMmu28w"
      },
      "execution_count": null,
      "outputs": []
    },
    {
      "cell_type": "markdown",
      "source": [
        "\n",
        "given num is armstrong or not aemstrong"
      ],
      "metadata": {
        "id": "jHCuMk4oC9ki"
      }
    },
    {
      "cell_type": "code",
      "source": [
        "num=int(input(\"enter the number\"))\n",
        "sum=0\n",
        "temp=num\n",
        "while temp>0:\n",
        "    digit=temp%10\n",
        "    sum+=digit**3\n",
        "    temp//=10\n",
        "    if num==sum:\n",
        "        print(\"armstrong\")\n",
        "    else:\n",
        "        print(\"not armstrong\")"
      ],
      "metadata": {
        "id": "o51k82H7DIgT"
      },
      "execution_count": null,
      "outputs": []
    }
  ]
}