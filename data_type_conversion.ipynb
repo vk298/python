{
  "nbformat": 4,
  "nbformat_minor": 0,
  "metadata": {
    "colab": {
      "provenance": []
    },
    "kernelspec": {
      "name": "python3",
      "display_name": "Python 3"
    },
    "language_info": {
      "name": "python"
    }
  },
  "cells": [
    {
      "cell_type": "markdown",
      "source": [
        "int data type conversion"
      ],
      "metadata": {
        "id": "tm5d4PIlyhUB"
      }
    },
    {
      "cell_type": "code",
      "execution_count": null,
      "metadata": {
        "colab": {
          "base_uri": "https://localhost:8080/"
        },
        "id": "CNCcUVyFw3pQ",
        "outputId": "6cb2ee78-ef47-4b3a-aabb-53bc4731f454"
      },
      "outputs": [
        {
          "output_type": "stream",
          "name": "stdout",
          "text": [
            "20.5\n",
            "<class 'float'>\n",
            "(10+20.5j)\n",
            "<class 'complex'>\n"
          ]
        }
      ],
      "source": [
        "x=10\n",
        "y=20.5\n",
        "print(y)\n",
        "print(type(y))\n",
        "y=complex(x,y)\n",
        "print(y)\n",
        "print(type(y))"
      ]
    },
    {
      "cell_type": "code",
      "source": [],
      "metadata": {
        "id": "5EsxqiAn1mVu"
      },
      "execution_count": null,
      "outputs": []
    },
    {
      "cell_type": "markdown",
      "source": [
        "list data type conversion"
      ],
      "metadata": {
        "id": "ZkZosNK0zFjI"
      }
    },
    {
      "cell_type": "code",
      "source": [
        "lst=[1,2,3,4,5]\n",
        "print(lst)\n",
        "print(type(lst))\n",
        "lst=tuple(lst)\n",
        "print(lst)\n",
        "print(type(lst))"
      ],
      "metadata": {
        "colab": {
          "base_uri": "https://localhost:8080/"
        },
        "id": "0GEZq966zCrv",
        "outputId": "35f23f1f-82b6-4277-fe7c-b74456ab2d8d"
      },
      "execution_count": null,
      "outputs": [
        {
          "output_type": "stream",
          "name": "stdout",
          "text": [
            "[1, 2, 3, 4, 5]\n",
            "<class 'list'>\n",
            "(1, 2, 3, 4, 5)\n",
            "<class 'tuple'>\n"
          ]
        }
      ]
    },
    {
      "cell_type": "code",
      "source": [
        "lst=[1,2,3,4,5]\n",
        "print(lst)\n",
        "print(type(lst))\n",
        "lst=set(lst)\n",
        "print(lst)\n",
        "print(type(lst))\n"
      ],
      "metadata": {
        "colab": {
          "base_uri": "https://localhost:8080/"
        },
        "id": "NA-kyzxzz8gA",
        "outputId": "d9d29bd6-21a5-41f4-af38-e5abf0205e13"
      },
      "execution_count": null,
      "outputs": [
        {
          "output_type": "stream",
          "name": "stdout",
          "text": [
            "[1, 2, 3, 4, 5]\n",
            "<class 'list'>\n",
            "{1, 2, 3, 4, 5}\n",
            "<class 'set'>\n"
          ]
        }
      ]
    },
    {
      "cell_type": "markdown",
      "source": [
        "set data type conversion"
      ],
      "metadata": {
        "id": "E6T2uQth0JfZ"
      }
    },
    {
      "cell_type": "code",
      "source": [
        "x={1,2,3,4,56,67,892}\n",
        "print(x)\n",
        "print(type(x))\n",
        "x=list(x)\n",
        "print(x)\n",
        "print(type(x))"
      ],
      "metadata": {
        "colab": {
          "base_uri": "https://localhost:8080/"
        },
        "id": "9A-n7mqB0IM_",
        "outputId": "676523f1-de8b-4659-b180-9a4dd7f66b8b"
      },
      "execution_count": null,
      "outputs": [
        {
          "output_type": "stream",
          "name": "stdout",
          "text": [
            "{1, 2, 67, 3, 4, 56, 892}\n",
            "<class 'set'>\n",
            "[1, 2, 67, 3, 4, 56, 892]\n",
            "<class 'list'>\n"
          ]
        }
      ]
    },
    {
      "cell_type": "code",
      "source": [
        "x = {1, 2, 34, 56, 78, 9}\n",
        "print(x)\n",
        "print(type(x))\n",
        "x=tuple(x)\n",
        "print(x)\n",
        "print(type(x))"
      ],
      "metadata": {
        "colab": {
          "base_uri": "https://localhost:8080/"
        },
        "id": "dNPdViIS0etO",
        "outputId": "8483abb2-ba85-455d-9ab3-03ffeb919b69"
      },
      "execution_count": null,
      "outputs": [
        {
          "output_type": "stream",
          "name": "stdout",
          "text": [
            "{1, 2, 34, 56, 9, 78}\n",
            "<class 'set'>\n",
            "(1, 2, 34, 56, 9, 78)\n",
            "<class 'tuple'>\n"
          ]
        }
      ]
    },
    {
      "cell_type": "code",
      "source": [
        "x={1,3,4,5,6,7}\n",
        "print(x)\n",
        "print(type(x))\n",
        "x = dict.fromkeys(x)\n",
        "print(x)\n",
        "print(type(x))"
      ],
      "metadata": {
        "colab": {
          "base_uri": "https://localhost:8080/"
        },
        "id": "IXeJXKlU1eaB",
        "outputId": "96dbdf4d-506e-4d91-81b8-10ee2deaee15"
      },
      "execution_count": null,
      "outputs": [
        {
          "output_type": "stream",
          "name": "stdout",
          "text": [
            "{1, 3, 4, 5, 6, 7}\n",
            "<class 'set'>\n",
            "{1: None, 3: None, 4: None, 5: None, 6: None, 7: None}\n",
            "<class 'dict'>\n"
          ]
        }
      ]
    },
    {
      "cell_type": "markdown",
      "source": [
        "Dictionry data type conversion"
      ],
      "metadata": {
        "id": "sfivWD2o2RRE"
      }
    },
    {
      "cell_type": "code",
      "source": [
        "dic={1:2,3:4,5:6}\n",
        "print(dic)\n",
        "print(type(dic))\n",
        "dic=set(dic)\n",
        "print(dic)\n",
        "print(type(dic))"
      ],
      "metadata": {
        "colab": {
          "base_uri": "https://localhost:8080/"
        },
        "id": "R9nm2piJ2Lsb",
        "outputId": "2fed96bf-ad20-4f93-a10c-189248652317"
      },
      "execution_count": null,
      "outputs": [
        {
          "output_type": "stream",
          "name": "stdout",
          "text": [
            "{1: 2, 3: 4, 5: 6}\n",
            "<class 'dict'>\n",
            "{1, 3, 5}\n",
            "<class 'set'>\n"
          ]
        }
      ]
    },
    {
      "cell_type": "code",
      "source": [
        "dic={1:2,3:4,5:6}\n",
        "print(dic)\n",
        "print(type(dic))\n",
        "dic = tuple(dic)\n",
        "print(dic)\n",
        "print(type(dic))"
      ],
      "metadata": {
        "colab": {
          "base_uri": "https://localhost:8080/"
        },
        "id": "q43YLwq62XpS",
        "outputId": "ebc62c96-4933-4b99-dbcc-93567b46de76"
      },
      "execution_count": null,
      "outputs": [
        {
          "output_type": "stream",
          "name": "stdout",
          "text": [
            "{1: 2, 3: 4, 5: 6}\n",
            "<class 'dict'>\n",
            "(1, 3, 5)\n",
            "<class 'tuple'>\n"
          ]
        }
      ]
    },
    {
      "cell_type": "code",
      "source": [
        "dic={1:2,3:4,5:6}\n",
        "print(dic)\n",
        "print(type(dic))\n",
        "dic = list(dic)\n",
        "print(dic)\n",
        "print(type(dic))"
      ],
      "metadata": {
        "colab": {
          "base_uri": "https://localhost:8080/"
        },
        "id": "oK4-Ad5K2kDM",
        "outputId": "4e88d8d1-995d-47ff-efb9-25516435a9ff"
      },
      "execution_count": null,
      "outputs": [
        {
          "output_type": "stream",
          "name": "stdout",
          "text": [
            "{1: 2, 3: 4, 5: 6}\n",
            "<class 'dict'>\n",
            "[1, 3, 5]\n",
            "<class 'list'>\n"
          ]
        }
      ]
    }
  ]
}